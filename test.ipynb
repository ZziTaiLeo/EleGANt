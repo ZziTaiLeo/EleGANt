{
 "cells": [
  {
   "cell_type": "code",
   "execution_count": null,
   "metadata": {},
   "outputs": [],
   "source": [
    "path_a = '/media/psdz/LH-2/dataset/latents/non-makeup/xfsy_0187.pt'\n",
    "path_b = '/media/psdz/LH-2/dataset/latents/non-makeup/xfsy_0188.pt'\n",
    "import torch \n",
    "a = torch.load(path_a)\n",
    "b = torch.load(path_b)\n",
    "d = a-b\n",
    "c = torch.norm(a-b,p=2,dim=1)\n",
    "print(c)"
   ]
  },
  {
   "cell_type": "code",
   "execution_count": null,
   "metadata": {},
   "outputs": [],
   "source": [
    "import os \n",
    "path_root = '/media/psdz/LH-2/dataset/test_sil'\n",
    "for idx in os.listdir(path_root):\n",
    "   idx_path = os.path.join(path_root,idx) \n",
    "   for type in os.listdir(idx_path):\n",
    "       type_path = os.path.join(idx_path,type)\n",
    "       for seq in os.listdir(type_path):\n",
    "           seq_path = os.path.join(type_path,seq)\n",
    "           print(f'idx={idx} type={type} seq={seq} :')\n",
    "           cmd_1 = f'cd {seq_path}'\n",
    "           os.system(cmd_1)\n",
    "           cmd_2 = 'ls -l | grep \"^-\"'\n",
    "           os.system(cmd_2)\n",
    "           print('\\n')"
   ]
  }
 ],
 "metadata": {
  "kernelspec": {
   "display_name": "eg3d",
   "language": "python",
   "name": "python3"
  },
  "language_info": {
   "codemirror_mode": {
    "name": "ipython",
    "version": 3
   },
   "file_extension": ".py",
   "mimetype": "text/x-python",
   "name": "python",
   "nbconvert_exporter": "python",
   "pygments_lexer": "ipython3",
   "version": "3.9.15"
  },
  "orig_nbformat": 4,
  "vscode": {
   "interpreter": {
    "hash": "1a9a8eb24e5a5ae020f9ec7f14d057265cff6314c048f0140ec75a81a69f3be8"
   }
  }
 },
 "nbformat": 4,
 "nbformat_minor": 2
}
